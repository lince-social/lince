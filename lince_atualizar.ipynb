{
  "cells": [
    {
      "cell_type": "code",
      "execution_count": null,
      "metadata": {},
      "outputs": [],
      "source": [
        "import pandas as pd\n",
        "from datetime import datetime"
      ]
    },
    {
      "cell_type": "code",
      "execution_count": null,
      "metadata": {},
      "outputs": [],
      "source": [
        "df = pd.read_csv('lince_ni.csv', sep=',')"
      ]
    },
    {
      "cell_type": "code",
      "execution_count": null,
      "metadata": {},
      "outputs": [],
      "source": [
        "#locate where index is 193, starting at 0\n",
        "df.head()"
      ]
    },
    {
      "cell_type": "code",
      "execution_count": null,
      "metadata": {},
      "outputs": [],
      "source": [
        "\n",
        "def atualiza_diarios():\n",
        "    df.loc[(df['tipo_periodicidade'] == 'Dias') & (df['Ativo'] == True), 'periodo_desde_criacao'] += 1\n",
        "    df.loc[(df['periodo_desde_criacao'] >= df['periodicidade']) & (df['Ativo'] == True), ['periodo_desde_criacao', 'Feito']] = [0, False]\n",
        "\n",
        "\n",
        "def atualiza_semanais():\n",
        "    df.loc[(df['tipo_periodicidade'] == 'Semanas') & (df['Ativo'] == True ), 'periodo_desde_criacao'] += 1\n",
        "    df.loc[(df['periodo_desde_criacao'] >= df['periodicidade']) & (df['Ativo'] == True), ['periodo_desde_criacao', 'Feito']] = [0, False]\n",
        "\n",
        "\n",
        "def atualiza_mensais():\n",
        "    pass\n",
        "\n",
        "\n",
        "def dias_feito_true():\n",
        "    df['Feito'] = df['tipo_periodicidade'].apply(lambda x: True if x == 'Dias' else True)"
      ]
    },
    {
      "cell_type": "code",
      "execution_count": null,
      "metadata": {},
      "outputs": [],
      "source": [
        "df.loc[df.isnull()]"
      ]
    },
    {
      "cell_type": "code",
      "execution_count": null,
      "metadata": {},
      "outputs": [],
      "source": [
        "df[['periodo_desde_criacao', 'periodicidade', 'dia_inicio','dia_da_semana', 'horario_criacao']] = df[['periodo_desde_criacao', 'periodicidade', 'dia_inicio', 'dia_da_semana', 'horario_criacao']].astype(int)\n"
      ]
    },
    {
      "cell_type": "code",
      "execution_count": null,
      "metadata": {},
      "outputs": [],
      "source": [
        "df[df['dia_da_semana'] != 0].head()"
      ]
    },
    {
      "cell_type": "code",
      "execution_count": null,
      "metadata": {},
      "outputs": [],
      "source": [
        "array = []\n",
        "array.append(df['dia_da_semana'][31])"
      ]
    },
    {
      "cell_type": "code",
      "execution_count": null,
      "metadata": {},
      "outputs": [],
      "source": [
        "if len(df['dia_da_semana'][31]) > 0:\n",
        "    first_char = df['dia_da_semana'][31][0]\n",
        "    print(first_char)\n",
        "else:\n",
        "    print(\"The cell is empty.\")"
      ]
    },
    {
      "cell_type": "code",
      "execution_count": null,
      "metadata": {},
      "outputs": [],
      "source": [
        "from datetime import datetime\n",
        "\n",
        "# get the current date and time\n",
        "now = datetime.now()\n",
        "\n",
        "# get the day of the week (Monday is 0 and Sunday is 6)\n",
        "day_of_week = now.weekday() + 1\n",
        "\n",
        "# print the day of the week\n",
        "print(day_of_week)\n"
      ]
    },
    {
      "cell_type": "code",
      "execution_count": null,
      "metadata": {},
      "outputs": [],
      "source": [
        "for column in df.drop('nome', axis=1).columns:\n",
        "    print(df[column].unique())"
      ]
    },
    {
      "cell_type": "code",
      "execution_count": null,
      "metadata": {},
      "outputs": [],
      "source": [
        "df[(df['tipo_periodicidade'] == 'Dias') & (df['horario_criacao'] != 0)].head()"
      ]
    },
    {
      "cell_type": "code",
      "execution_count": null,
      "metadata": {},
      "outputs": [],
      "source": [
        "df[df['tipo_periodicidade'] == 'Semanas'].head()"
      ]
    },
    {
      "cell_type": "code",
      "execution_count": null,
      "metadata": {},
      "outputs": [],
      "source": [
        "df[df['tipo_periodicidade'] == 'Meses'].head()"
      ]
    },
    {
      "cell_type": "code",
      "execution_count": null,
      "metadata": {},
      "outputs": [],
      "source": [
        "dias_feito_true()"
      ]
    },
    {
      "cell_type": "code",
      "execution_count": null,
      "metadata": {},
      "outputs": [],
      "source": [
        "#Fazer um codigo que pegue biblios de horário e molde o tempo do python pro tempo do hábitos.csv, cheque a todo minuto, quando o tempo do python for o mesmo da tabela, feito é false\n"
      ]
    },
    {
      "cell_type": "code",
      "execution_count": null,
      "metadata": {},
      "outputs": [],
      "source": [
        "df.to_csv('habitos.csv', index=False)"
      ]
    }
  ],
  "metadata": {
    "kernelspec": {
      "display_name": "cd",
      "language": "python",
      "name": "python3"
    },
    "language_info": {
      "codemirror_mode": {
        "name": "ipython",
        "version": 3
      },
      "file_extension": ".py",
      "mimetype": "text/x-python",
      "name": "python",
      "nbconvert_exporter": "python",
      "pygments_lexer": "ipython3",
      "version": "3.11.4"
    },
    "orig_nbformat": 4
  },
  "nbformat": 4,
  "nbformat_minor": 2
}
